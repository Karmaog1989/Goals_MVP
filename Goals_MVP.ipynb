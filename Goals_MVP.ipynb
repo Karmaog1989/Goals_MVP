{
 "cells": [
  {
   "cell_type": "code",
   "execution_count": 25,
   "id": "168b05a1-6c6e-425d-8c9e-233ed493e1d0",
   "metadata": {},
   "outputs": [
    {
     "name": "stdout",
     "output_type": "stream",
     "text": [
      "2025-04-06\n",
      "Self-care: Get a hair cut\n",
      "2025-04-05\n",
      "Your goal: Self-care: Get a hair cut is due on 2025-04-06. Are you going to get it?.\n"
     ]
    }
   ],
   "source": [
    "#Goal Tracker - 1 goal for MVP\n",
    "import datetime \n",
    "\n",
    "goal = \"Self-care: Get a hair cut\"\n",
    "deadline_str = \"06/04/2025\"\n",
    "deadline_datetime = datetime.datetime.strptime(deadline_str, \"%d/%m/%Y\").date()\n",
    "\n",
    "print(deadline_datetime)\n",
    "print(goal)\n",
    "\n",
    "#Checking current date\n",
    "current_date = datetime.date.today()\n",
    "print(current_date)\n",
    "\n",
    "#Checking deadline against current date\n",
    "if deadline_datetime < current_date:\n",
    "    print(f\"Your goal:  {goal} is due since {deadline_datetime}. You are better than this.\")\n",
    "elif deadline_datetime == current_date:\n",
    "    print(f\"Your goal:  {goal} is due today {deadline_datetime}. Go get it.\")\n",
    "else:\n",
    "    print(f\"Your goal: {goal} is due on {deadline_datetime}. Are you going to get it?.\")\n",
    "\n"
   ]
  },
  {
   "cell_type": "code",
   "execution_count": null,
   "id": "0a87b303-4d0d-4afa-aa46-b821f5b09318",
   "metadata": {},
   "outputs": [],
   "source": [
    "#Let user input their goals and deadline\n",
    "\n",
    "import datetime \n",
    "\n",
    "goals = []\n",
    "\n",
    "while True:\n",
    "    goal_description = input(\"Enter your goal description (or 'done' to finish): \")\n",
    "    if goal_description == \"done\":\n",
    "        break\n",
    "    \n",
    "\n",
    "    while True:\n",
    "        goal_deadline_str = input(\"Enter a deadline for your {goal_description} Use DD-MM-YY: \")\n",
    "        try:\n",
    "            goal_deadline_datetime = datetime.datetime.strptime(goal_deadline_str, \"%d/%m/%Y\").date()\n",
    "            goals.append({\"description\": goal_description, \"deadline\": goal_deadline_datetime})\n",
    "            print(\"Goals all set\")\n",
    "            break #breaks out of the inner loop\n",
    "        except ValueError:\n",
    "            print(\"Invalid date format: Please use DD/MM/YYYY format\")\n",
    "\n",
    "current_date = datetime.date.today()\n",
    "\n",
    "print(\"\\n--- Goal Tracking ---\")\n",
    "\n",
    "if not goals:\n",
    "    print(\"No goals entered.\")\n",
    "else:\n",
    "    for goal in goals:\n",
    "        goal_description = goal[\"description\"]\n",
    "        goal_deadline = goal[\"deadline\"]\n",
    "        print(goal_description)\n",
    "        print(goal_deadline)\n",
    "\n",
    "    #Checking deadline against current date\n",
    "    if goal_deadline < current_date:\n",
    "        print(f\"Your goal:  {goal_description} is due since {goal_deadline}. You are better than this.\")\n",
    "    elif goal_deadline == current_date:\n",
    "        print(f\"Your goal:  {goal_description} is due today {goal_deadline}. Go get it.\")\n",
    "    else:\n",
    "        print(f\"Your goal: {goal_description} is due on {goal_deadline}. Are you going to get it?.\")\n",
    "\n"
   ]
  }
 ],
 "metadata": {
  "kernelspec": {
   "display_name": "Python 3 (ipykernel)",
   "language": "python",
   "name": "python3"
  },
  "language_info": {
   "codemirror_mode": {
    "name": "ipython",
    "version": 3
   },
   "file_extension": ".py",
   "mimetype": "text/x-python",
   "name": "python",
   "nbconvert_exporter": "python",
   "pygments_lexer": "ipython3",
   "version": "3.12.4"
  }
 },
 "nbformat": 4,
 "nbformat_minor": 5
}
